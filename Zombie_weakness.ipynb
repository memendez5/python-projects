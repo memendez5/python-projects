{
  "nbformat": 4,
  "nbformat_minor": 0,
  "metadata": {
    "colab": {
      "name": "Zombie weakness.ipynb",
      "provenance": []
    },
    "kernelspec": {
      "name": "python3",
      "display_name": "Python 3"
    },
    "language_info": {
      "name": "python"
    }
  },
  "cells": [
    {
      "cell_type": "code",
      "execution_count": null,
      "metadata": {
        "id": "GP4XGs3GldIC"
      },
      "outputs": [],
      "source": [
        ""
      ]
    },
    {
      "cell_type": "markdown",
      "source": [
        "#**Zombie weakness**\n",
        "This python program uses different skills like lists, if-else condition and loops, user input functions etc."
      ],
      "metadata": {
        "id": "TzcdX3hNmBIm"
      }
    },
    {
      "cell_type": "code",
      "source": [
        "weapon = [\"shotgun\", \"Axe\", \"paperclip\"]\n",
        "number = 2\n",
        "print(\" zombies are attacking you, and you need weapon to protect yourself\")\n",
        "print(\" \")\n",
        "print(\"1 of the 3 choices will give you the zombies weakness\")\n",
        "print(\" \")\n",
        "print(weapon[int(input(\"the weapon choices are shotgun, Axe, and paperclip. chose a number between 0-2 to try to get the zombies weakness\"))])\n",
        "if number == 0:\n",
        "  print(\"that is not the weakness\")\n",
        "if  number == 1: \n",
        "  print(\"that is not the weakness\")\n",
        "if number == 2:\n",
        "  print(\"you found the weakness!\")"
      ],
      "metadata": {
        "colab": {
          "base_uri": "https://localhost:8080/"
        },
        "id": "QV2QuM4am5W0",
        "outputId": "d6ccfc7b-42ed-4aba-e595-00b941c8380d"
      },
      "execution_count": null,
      "outputs": [
        {
          "output_type": "stream",
          "name": "stdout",
          "text": [
            " zombies are attacking you, and you need weapon to protect yourself\n",
            " \n",
            "1 of the 3 choices will give you the zombies weakness\n",
            " \n"
          ]
        }
      ]
    },
    {
      "cell_type": "markdown",
      "source": [
        "Here we make a function for to incode the letters into numbers"
      ],
      "metadata": {
        "id": "bcvUqoFtn9Mt"
      }
    }
  ]
}
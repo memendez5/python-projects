{
  "nbformat": 4,
  "nbformat_minor": 0,
  "metadata": {
    "colab": {
      "name": "Ceasar shift .ipynb",
      "provenance": []
    },
    "kernelspec": {
      "name": "python3",
      "display_name": "Python 3"
    },
    "language_info": {
      "name": "python"
    }
  },
  "cells": [
    {
      "cell_type": "markdown",
      "source": [
        "Project: Ceasar Shift "
      ],
      "metadata": {
        "id": "WhXP6Sg_gG31"
      }
    },
    {
      "cell_type": "code",
      "source": [
        "# Read the instructions to see what you need to do here!\n",
        "\n",
        "alpha = \"ABCDEFGHIJKLMNOPQRSTUVWXYZ\"\n",
        "\n",
        "def caesar_encode(text, n):\n",
        "  answer_list = []\n",
        "  for letter in text:    # letter is counting in text E.G. what is 0ind is t in \"text\"\n",
        "    ind = alpha.index(letter)  # what is that index of the letter in alpha \n",
        "    ind = ind + n  #adding the shift to the index\n",
        "    ind %=26  # ind = ind%26\n",
        "    answer_list.append(alpha[ind])"
      ],
      "metadata": {
        "id": "irL_EDdMgsye"
      },
      "execution_count": null,
      "outputs": []
    },
    {
      "cell_type": "markdown",
      "source": [
        "The encoding part of the ceasar shift: \n",
        "\n",
        "1.ind = alpha.index(letter)/ this is the index of the letter in list alpha \n",
        "\n",
        "2.ind = ind + n/ this adds the shift to the index "
      ],
      "metadata": {
        "id": "wM2YTDgMgyL6"
      }
    },
    {
      "cell_type": "code",
      "source": [
        "def caesar_decode(text, n):\n",
        "  decode_list = []\n",
        "  for letter in text:\n",
        "    ind = alpha.index(letter)\n",
        "    ind = ind - n\n",
        "    ind %= 26\n",
        "    decode_list.append(alpha[ind])\n",
        "    \n",
        "  return \"\".join(decode_list)"
      ],
      "metadata": {
        "id": "Pwa1YpJDn8XV"
      },
      "execution_count": null,
      "outputs": []
    },
    {
      "cell_type": "markdown",
      "source": [
        "Decoding part of ceasar shift:\n",
        "\n",
        "1.ind = alpha.index(letter)/ this is the index of the letter in list alpha\n",
        "\n",
        "2.ind = ind-n means to get rid of the shift and getting the letter back to its original "
      ],
      "metadata": {
        "id": "3RWy4RsdoDG2"
      }
    },
    {
      "cell_type": "code",
      "source": [
        "userinput = input(\"Enter teaxt:\")\n",
        "userinput = userinput.upper()\n",
        "\n",
        "\n",
        "test = \"HELLOWORLD\"\n",
        "shift = 1\n",
        "enc = caesar_encode(userinput, shift)\n",
        "dec = caesar_decode(enc, shift)\n",
        "print(enc)\n",
        "print(dec)\n",
        "# If this worked, dec should be the same as test!"
      ],
      "metadata": {
        "id": "sgHAMATuoDeO"
      },
      "execution_count": null,
      "outputs": []
    },
    {
      "cell_type": "markdown",
      "source": [
        "1.userinput = input- ask the user to shift the text\n",
        "\n",
        "2.userinput = upper- upper cases the text\n",
        "\n",
        "3.\"HELLOWORLD\" is the text\n",
        "\n",
        "4.shift = 1- shifts the text to its original state\n",
        "\n",
        "5.enc = ceasar_encode and decode is recalling the function and then Print(enc) and (dec) prints those functions "
      ],
      "metadata": {
        "id": "4-w6PUvkoG1I"
      }
    }
  ]
}
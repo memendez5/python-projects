{
  "nbformat": 4,
  "nbformat_minor": 0,
  "metadata": {
    "colab": {
      "name": "Affine cipher.ipynb",
      "provenance": []
    },
    "kernelspec": {
      "name": "python3",
      "display_name": "Python 3"
    },
    "language_info": {
      "name": "python"
    }
  },
  "cells": [
    {
      "cell_type": "markdown",
      "source": [
        "Project: Affine cipher"
      ],
      "metadata": {
        "id": "V5UFToiiamzk"
      }
    },
    {
      "cell_type": "markdown",
      "source": [
        "Mod inverse: To obtain a solution a system of linear equantions \n"
      ],
      "metadata": {
        "id": "NSBBKrGLeX8N"
      }
    },
    {
      "cell_type": "code",
      "source": [
        "import math\n",
        "\n",
        "# Read the instructions to see what to do!\n",
        "\n",
        "alpha = \"ABCDEFGHIJKLMNOPQRSTUVWXYZ\"\n",
        "\n",
        "# PART 1\n",
        "# These functions are provided for you!\n",
        "def mod_inverse_helper(a, b):\n",
        "   q, r = a//b, a%b\n",
        "   if r == 1:\n",
        "     return (1, -1 * q)\n",
        "   u, v = mod_inverse_helper(b, r)\n",
        "   return (v, -1 * q * v + u)\n",
        "\n",
        "def mod_inverse(a, m):\n",
        "   assert math.gcd(a, m) == 1, \"You're trying to invert \" + str(a) + \" in mod \" + str(m) + \" and that doesn't work!\"\n",
        "   return mod_inverse_helper(m, a)[1] % m\n",
        "\n",
        "\n",
        "# These are the functions you'll need to write:\n",
        "def affine_encode(text, a, b):\n",
        " enc_list = []\n",
        " for i in range (len(text)):\n",
        "   m_num = alpha.index(text[i])\n",
        "   k_num = (m_num * a)\n",
        "   e_num = (k_num + b) %26\n",
        "   enc_list.append(alpha[e_num])\n",
        " return\"\" . join(enc_list)\n",
        "\n",
        "def affine_decode(text, a, b):\n",
        " dec_list = []\n",
        " for i in range (len(text)):\n",
        "   m_num = alpha.index(text[i])\n",
        "   k_num = (m_num - b)\n",
        "   e_num = (k_num * mod_inverse(a,26)) %26\n",
        "   dec_list.append(alpha[e_num])\n",
        " return\"\" . join(dec_list)\n"
      ],
      "metadata": {
        "id": "n4r5ktgiaxEb"
      },
      "execution_count": 3,
      "outputs": []
    },
    {
      "cell_type": "markdown",
      "source": [
        "Affine encode: The Encoding part of the affine and create an range to put text in len and set k_num and m_num and e to = equations"
      ],
      "metadata": {
        "id": "Et8T39PNeimz"
      }
    },
    {
      "cell_type": "markdown",
      "source": [
        "Affine decode: The decoding part of affine. and restate create an range to put text in len and change the code for e_num and k_num"
      ],
      "metadata": {
        "id": "LsP0AYUpeud8"
      }
    }
  ]
}
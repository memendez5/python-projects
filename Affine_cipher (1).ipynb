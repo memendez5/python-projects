{
  "nbformat": 4,
  "nbformat_minor": 0,
  "metadata": {
    "colab": {
      "name": "Affine cipher.ipynb",
      "provenance": []
    },
    "kernelspec": {
      "name": "python3",
      "display_name": "Python 3"
    },
    "language_info": {
      "name": "python"
    }
  },
  "cells": [
    {
      "cell_type": "markdown",
      "source": [
        "Project: Affine cipher"
      ],
      "metadata": {
        "id": "V5UFToiiamzk"
      }
    },
    {
      "cell_type": "markdown",
      "source": [
        "**Part 1**"
      ],
      "metadata": {
        "id": "5G6CyTqyXqyh"
      }
    },
    {
      "cell_type": "code",
      "source": [
        "import math\n",
        "\n",
        "# Read the instructions to see what to do!\n",
        "\n",
        "alpha = \"ABCDEFGHIJKLMNOPQRSTUVWXYZ\"\n",
        "\n",
        "# PART 1\n",
        "# These functions are provided for you!\n",
        "def mod_inverse_helper(a, b):\n",
        "   q, r = a//b, a%b\n",
        "   if r == 1:\n",
        "     return (1, -1 * q)\n",
        "   u, v = mod_inverse_helper(b, r)\n",
        "   return (v, -1 * q * v + u)\n",
        "\n",
        "def mod_inverse(a, m):\n",
        "   assert math.gcd(a, m) == 1, \"You're trying to invert \" + str(a) + \" in mod \" + str(m) + \" and that doesn't work!\"\n",
        "   return mod_inverse_helper(m, a)[1] % m"
      ],
      "metadata": {
        "id": "RC9aJjM9kcvU"
      },
      "execution_count": null,
      "outputs": []
    },
    {
      "cell_type": "markdown",
      "source": [
        "Mod inverse: To obtain a solution a system of linear equantions. Its the inverse of a number in the code, so if you have 3 the inverse is 9.\n"
      ],
      "metadata": {
        "id": "NSBBKrGLeX8N"
      }
    },
    {
      "cell_type": "code",
      "source": [
        "# These are the functions you'll need to write:\n",
        "def affine_encode(text, a, b):\n",
        " enc_list = []\n",
        " for i in range (len(text)):\n",
        "   m_num = alpha.index(text[i])\n",
        "   k_num = (m_num * a)\n",
        "   e_num = (k_num + b) %26\n",
        "   enc_list.append(alpha[e_num])\n",
        " return\"\" . join(enc_list)"
      ],
      "metadata": {
        "id": "-cYV1l7HkwS7"
      },
      "execution_count": null,
      "outputs": []
    },
    {
      "cell_type": "markdown",
      "source": [
        "Affine encode: The Encoding part of the affine and create an range to put text in len and set k_num and m_num and e to = equations\n",
        "\n"
      ],
      "metadata": {
        "id": "Et8T39PNeimz"
      }
    },
    {
      "cell_type": "code",
      "source": [
        "def affine_decode(text, a, b):\n",
        " dec_list = []\n",
        " for i in range (len(text)):\n",
        "   m_num = alpha.index(text[i])\n",
        "   k_num = (m_num - b)\n",
        "   e_num = (k_num * mod_inverse(a,26)) %26\n",
        "   dec_list.append(alpha[e_num])\n",
        " return\"\" . join(dec_list)\n"
      ],
      "metadata": {
        "id": "n4r5ktgiaxEb"
      },
      "execution_count": null,
      "outputs": []
    },
    {
      "cell_type": "markdown",
      "source": [
        "Affine decode: The decoding part of affine. and restate create an range to put text in len and change the code for e_num and k_num\n",
        "\n",
        "We will encode \"ENDOFTHESCHOOLYEAR\""
      ],
      "metadata": {
        "id": "LsP0AYUpeud8"
      }
    },
    {
      "cell_type": "code",
      "source": [
        "message = \"ENDOFSCHOOLYEAR\"\n",
        "a = 3\n",
        "b = 5\n",
        "enc = affine_encode(message,a,b)\n",
        "dec = affine_decode(enc,a,b)\n",
        "print(\"The message is\", message)\n",
        "print(\"The encode message is\", enc)\n",
        "print(\"The decode message is\", dec)"
      ],
      "metadata": {
        "colab": {
          "base_uri": "https://localhost:8080/"
        },
        "id": "ZuZIIIJpWSAy",
        "outputId": "59c55402-47ca-4a11-b33e-35a97b05e9c0"
      },
      "execution_count": null,
      "outputs": [
        {
          "output_type": "stream",
          "name": "stdout",
          "text": [
            "The message is ENDOFSCHOOLYEAR\n",
            "The encode message is RSOVUHLAVVMZRFE\n",
            "The decode message is ENDOFSCHOOLYEAR\n"
          ]
        }
      ]
    },
    {
      "cell_type": "markdown",
      "source": [
        "**Part 2**"
      ],
      "metadata": {
        "id": "TKX6NVe1XuEw"
      }
    },
    {
      "cell_type": "markdown",
      "source": [
        "This converts the text to number>\n",
        "\n",
        "\n",
        "\n",
        "\n",
        "*   The index of each letter in alpha is added to different powers of 28\n",
        "*   the powers of 26 increase linearly.\n",
        "*   The numbers are all added together \n",
        "\n",
        "\n",
        "\n",
        "\n"
      ],
      "metadata": {
        "id": "32Di3qNGYI9x"
      }
    },
    {
      "cell_type": "code",
      "source": [
        "def convert_to_num(word):\n",
        " f_num = 0\n",
        " for i in range(len(word)):\n",
        "   k = alpha.index(word[i])\n",
        "   exp = 26**i\n",
        "   f_num += k*exp # a =+ b -> a=a+b\n",
        "   \n",
        " return f_num"
      ],
      "metadata": {
        "id": "CZy5PgPLX10A"
      },
      "execution_count": null,
      "outputs": []
    },
    {
      "cell_type": "markdown",
      "source": [
        "Let's do an example where we convert water to a number"
      ],
      "metadata": {
        "id": "7PPl1uFOZUAm"
      }
    },
    {
      "cell_type": "code",
      "source": [
        ""
      ],
      "metadata": {
        "id": "ldQob6MwZetq"
      },
      "execution_count": null,
      "outputs": []
    }
  ]
}